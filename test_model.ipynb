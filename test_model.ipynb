{
 "cells": [
  {
   "cell_type": "code",
   "execution_count": 2,
   "metadata": {},
   "outputs": [],
   "source": [
    "import torch\n",
    "import numpy as np\n",
    "import matplotlib.pyplot as plt\n",
    "\n",
    "from CGAN import generator , discriminator"
   ]
  },
  {
   "cell_type": "code",
   "execution_count": 5,
   "metadata": {},
   "outputs": [],
   "source": [
    "gen = generator()\n",
    "disc = discriminator()"
   ]
  },
  {
   "cell_type": "code",
   "execution_count": 6,
   "metadata": {},
   "outputs": [],
   "source": [
    "# Load Weights\n",
    "checkpoint = torch.load('../models/CGAN100.pth',map_location=torch.device(\"cpu\"))\n",
    "epochs = checkpoint['epoch']\n",
    "gen.load_state_dict(checkpoint['generator'])\n",
    "disc.load_state_dict(checkpoint[\"discriminator\"])\n",
    "lr = checkpoint['lr_sched']\n",
    "optG = torch.optim.Adam(gen.parameters(),lr=lr,betas=(0.5,0.999))\n",
    "optD = torch.optim.Adam(disc.parameters(),lr=lr,betas=(0.5,0.999))\n",
    "optG = checkpoint['optimizer_generator']\n",
    "optD = checkpoint['optimizer_discriminator']"
   ]
  },
  {
   "cell_type": "code",
   "execution_count": null,
   "metadata": {},
   "outputs": [],
   "source": []
  },
  {
   "cell_type": "code",
   "execution_count": null,
   "metadata": {},
   "outputs": [],
   "source": []
  },
  {
   "cell_type": "code",
   "execution_count": null,
   "metadata": {},
   "outputs": [],
   "source": []
  },
  {
   "cell_type": "code",
   "execution_count": null,
   "metadata": {},
   "outputs": [],
   "source": []
  }
 ],
 "metadata": {
  "kernelspec": {
   "display_name": "Python 3",
   "language": "python",
   "name": "python3"
  },
  "language_info": {
   "codemirror_mode": {
    "name": "ipython",
    "version": 3
   },
   "file_extension": ".py",
   "mimetype": "text/x-python",
   "name": "python",
   "nbconvert_exporter": "python",
   "pygments_lexer": "ipython3",
   "version": "3.8.10"
  }
 },
 "nbformat": 4,
 "nbformat_minor": 2
}
